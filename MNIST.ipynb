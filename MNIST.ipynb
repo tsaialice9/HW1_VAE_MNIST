{
  "nbformat": 4,
  "nbformat_minor": 0,
  "metadata": {
    "colab": {
      "provenance": [],
      "authorship_tag": "ABX9TyNAuFFhM5QzO9zJ8cXamhy9",
      "include_colab_link": true
    },
    "kernelspec": {
      "name": "python3",
      "display_name": "Python 3"
    },
    "language_info": {
      "name": "python"
    }
  },
  "cells": [
    {
      "cell_type": "markdown",
      "metadata": {
        "id": "view-in-github",
        "colab_type": "text"
      },
      "source": [
        "<a href=\"https://colab.research.google.com/github/tsaialice9/HW1_VAE_MNIST/blob/main/MNIST.ipynb\" target=\"_parent\"><img src=\"https://colab.research.google.com/assets/colab-badge.svg\" alt=\"Open In Colab\"/></a>"
      ]
    },
    {
      "cell_type": "code",
      "execution_count": 9,
      "metadata": {
        "colab": {
          "base_uri": "https://localhost:8080/"
        },
        "id": "JosfwpH_D-D2",
        "outputId": "f3267f3f-fa85-41b0-cc53-09aed9cc8855"
      },
      "outputs": [
        {
          "output_type": "stream",
          "name": "stdout",
          "text": [
            "--2025-09-18 13:59:57--  https://raw.githubusercontent.com/fgnt/mnist/master/train-images-idx3-ubyte.gz\n",
            "Resolving raw.githubusercontent.com (raw.githubusercontent.com)... 185.199.108.133, 185.199.111.133, 185.199.110.133, ...\n",
            "Connecting to raw.githubusercontent.com (raw.githubusercontent.com)|185.199.108.133|:443... connected.\n",
            "HTTP request sent, awaiting response... 200 OK\n",
            "Length: 9912422 (9.5M) [application/octet-stream]\n",
            "Saving to: ‘mnist_data/train-images-idx3-ubyte.gz’\n",
            "\n",
            "mnist_data/train-im 100%[===================>]   9.45M  --.-KB/s    in 0.1s    \n",
            "\n",
            "2025-09-18 13:59:57 (90.5 MB/s) - ‘mnist_data/train-images-idx3-ubyte.gz’ saved [9912422/9912422]\n",
            "\n",
            "--2025-09-18 13:59:58--  https://raw.githubusercontent.com/fgnt/mnist/master/train-labels-idx1-ubyte.gz\n",
            "Resolving raw.githubusercontent.com (raw.githubusercontent.com)... 185.199.108.133, 185.199.109.133, 185.199.110.133, ...\n",
            "Connecting to raw.githubusercontent.com (raw.githubusercontent.com)|185.199.108.133|:443... connected.\n",
            "HTTP request sent, awaiting response... 200 OK\n",
            "Length: 28881 (28K) [application/octet-stream]\n",
            "Saving to: ‘mnist_data/train-labels-idx1-ubyte.gz’\n",
            "\n",
            "mnist_data/train-la 100%[===================>]  28.20K  --.-KB/s    in 0.002s  \n",
            "\n",
            "2025-09-18 13:59:58 (11.0 MB/s) - ‘mnist_data/train-labels-idx1-ubyte.gz’ saved [28881/28881]\n",
            "\n",
            "--2025-09-18 13:59:58--  https://raw.githubusercontent.com/fgnt/mnist/master/t10k-images-idx3-ubyte.gz\n",
            "Resolving raw.githubusercontent.com (raw.githubusercontent.com)... 185.199.108.133, 185.199.111.133, 185.199.110.133, ...\n",
            "Connecting to raw.githubusercontent.com (raw.githubusercontent.com)|185.199.108.133|:443... connected.\n",
            "HTTP request sent, awaiting response... 200 OK\n",
            "Length: 1648877 (1.6M) [application/octet-stream]\n",
            "Saving to: ‘mnist_data/t10k-images-idx3-ubyte.gz’\n",
            "\n",
            "mnist_data/t10k-ima 100%[===================>]   1.57M  --.-KB/s    in 0.06s   \n",
            "\n",
            "2025-09-18 13:59:58 (24.2 MB/s) - ‘mnist_data/t10k-images-idx3-ubyte.gz’ saved [1648877/1648877]\n",
            "\n",
            "--2025-09-18 13:59:58--  https://raw.githubusercontent.com/fgnt/mnist/master/t10k-labels-idx1-ubyte.gz\n",
            "Resolving raw.githubusercontent.com (raw.githubusercontent.com)... 185.199.108.133, 185.199.109.133, 185.199.110.133, ...\n",
            "Connecting to raw.githubusercontent.com (raw.githubusercontent.com)|185.199.108.133|:443... connected.\n",
            "HTTP request sent, awaiting response... 200 OK\n",
            "Length: 4542 (4.4K) [application/octet-stream]\n",
            "Saving to: ‘mnist_data/t10k-labels-idx1-ubyte.gz’\n",
            "\n",
            "mnist_data/t10k-lab 100%[===================>]   4.44K  --.-KB/s    in 0s      \n",
            "\n",
            "2025-09-18 13:59:58 (38.9 MB/s) - ‘mnist_data/t10k-labels-idx1-ubyte.gz’ saved [4542/4542]\n",
            "\n",
            "Train: (60000, 28, 28) (60000,)\n",
            "Test : (10000, 28, 28) (10000,)\n"
          ]
        }
      ],
      "source": [
        "!mkdir -p mnist_data\n",
        "!wget -O mnist_data/train-images-idx3-ubyte.gz https://raw.githubusercontent.com/fgnt/mnist/master/train-images-idx3-ubyte.gz\n",
        "!wget -O mnist_data/train-labels-idx1-ubyte.gz https://raw.githubusercontent.com/fgnt/mnist/master/train-labels-idx1-ubyte.gz\n",
        "!wget -O mnist_data/t10k-images-idx3-ubyte.gz https://raw.githubusercontent.com/fgnt/mnist/master/t10k-images-idx3-ubyte.gz\n",
        "!wget -O mnist_data/t10k-labels-idx1-ubyte.gz https://raw.githubusercontent.com/fgnt/mnist/master/t10k-labels-idx1-ubyte.gz\n",
        "\n",
        "import gzip\n",
        "import numpy as np\n",
        "\n",
        "def load_mnist_images(filename, num_samples):\n",
        "    with gzip.open(filename, 'rb') as f:\n",
        "        header = np.frombuffer(f.read(16), dtype='>i4')\n",
        "        magic, n, rows, cols = header\n",
        "        data = np.frombuffer(f.read(num_samples * rows * cols), dtype=np.uint8)\n",
        "        return data.reshape(num_samples, rows, cols) / 255.0\n",
        "\n",
        "def load_mnist_labels(filename, num_samples):\n",
        "    with gzip.open(filename, 'rb') as f:\n",
        "        header = np.frombuffer(f.read(8), dtype='>i4')\n",
        "        magic, n = header\n",
        "        labels = np.frombuffer(f.read(num_samples), dtype=np.uint8)\n",
        "        return labels\n",
        "\n",
        "train_x = load_mnist_images(\"mnist_data/train-images-idx3-ubyte.gz\", 60000)\n",
        "train_y = load_mnist_labels(\"mnist_data/train-labels-idx1-ubyte.gz\", 60000)\n",
        "test_x  = load_mnist_images(\"mnist_data/t10k-images-idx3-ubyte.gz\", 10000)\n",
        "test_y  = load_mnist_labels(\"mnist_data/t10k-labels-idx1-ubyte.gz\", 10000)\n",
        "\n",
        "print(\"Train:\", train_x.shape, train_y.shape)\n",
        "print(\"Test :\", test_x.shape, test_y.shape)"
      ]
    },
    {
      "cell_type": "code",
      "source": [
        "import torch\n",
        "from torch.utils.data import DataLoader, TensorDataset\n",
        "\n",
        "train_dataset = TensorDataset(torch.tensor(train_x, dtype=torch.float32),\n",
        "                              torch.tensor(train_y, dtype=torch.long))\n",
        "test_dataset  = TensorDataset(torch.tensor(test_x, dtype=torch.float32),\n",
        "                              torch.tensor(test_y, dtype=torch.long))\n",
        "\n",
        "train_loader = DataLoader(train_dataset, batch_size=128, shuffle=True)\n",
        "test_loader  = DataLoader(test_dataset, batch_size=128, shuffle=False)\n",
        "\n",
        "\n",
        "import torch.nn as nn\n",
        "import torch.nn.functional as F\n",
        "import torch.optim as optim\n",
        "\n",
        "class VAE(nn.Module):\n",
        "    def __init__(self):\n",
        "        super(VAE, self).__init__()\n",
        "        # Encoder\n",
        "        self.fc1 = nn.Linear(28*28, 400)\n",
        "        self.fc_mu = nn.Linear(400, 20)\n",
        "        self.fc_logvar = nn.Linear(400, 20)\n",
        "        # Decoder\n",
        "        self.fc3 = nn.Linear(20, 400)\n",
        "        self.fc4 = nn.Linear(400, 28*28)\n",
        "\n",
        "    def encode(self, x):\n",
        "        h = F.relu(self.fc1(x))\n",
        "        return self.fc_mu(h), self.fc_logvar(h)\n",
        "\n",
        "    def reparameterize(self, mu, logvar):\n",
        "        std = torch.exp(0.5*logvar)\n",
        "        eps = torch.randn_like(std)\n",
        "        return mu + eps*std\n",
        "\n",
        "    def decode(self, z):\n",
        "        h = F.relu(self.fc3(z))\n",
        "        return torch.sigmoid(self.fc4(h))\n",
        "\n",
        "    def forward(self, x):\n",
        "        mu, logvar = self.encode(x.view(-1, 28*28))\n",
        "        z = self.reparameterize(mu, logvar)\n",
        "        return self.decode(z), mu, logvar\n",
        "\n",
        "\n",
        "def loss_function(recon_x, x, mu, logvar):\n",
        "    BCE = F.binary_cross_entropy(recon_x, x.view(-1, 28*28), reduction='sum')\n",
        "    KLD = -0.5 * torch.sum(1 + logvar - mu.pow(2) - logvar.exp())\n",
        "    return BCE + KLD\n",
        "\n",
        "\n",
        "device = torch.device(\"cuda\" if torch.cuda.is_available() else \"cpu\")\n",
        "torch.manual_seed(0)  # 固定隨機種子\n",
        "model = VAE().to(device)\n",
        "optimizer = optim.Adam(model.parameters(), lr=1e-3)\n",
        "epochs = 5\n",
        "\n",
        "\n",
        "def train(epoch):\n",
        "    model.train()\n",
        "    train_loss = 0\n",
        "    for batch_idx, (data, _) in enumerate(train_loader):\n",
        "        data = data.to(device)\n",
        "        optimizer.zero_grad()\n",
        "        recon_batch, mu, logvar = model(data)\n",
        "        loss = loss_function(recon_batch, data, mu, logvar)\n",
        "        loss.backward()\n",
        "        train_loss += loss.item()\n",
        "        optimizer.step()\n",
        "    avg_loss = train_loss / len(train_loader.dataset)\n",
        "    print(f\"Epoch {epoch}, Average loss: {avg_loss:.4f}\")\n",
        "\n",
        "\n",
        "import matplotlib.pyplot as plt\n",
        "\n",
        "def test_and_show(test_loader, num_samples=8):\n",
        "    model.eval()\n",
        "    with torch.no_grad():\n",
        "        data, _ = next(iter(test_loader))\n",
        "        data = data.to(device)\n",
        "        recon, _, _ = model(data)\n",
        "\n",
        "        plt.figure(figsize=(num_samples*2, 4))\n",
        "        for i in range(num_samples):\n",
        "            # 原圖\n",
        "            plt.subplot(2, num_samples, i+1)\n",
        "            plt.imshow(data[i].cpu().view(28,28), cmap='gray')\n",
        "            plt.axis('off')\n",
        "            if i==0: plt.ylabel(\"Input\", fontsize=12)\n",
        "\n",
        "            # 重建\n",
        "            plt.subplot(2, num_samples, i+1+num_samples)\n",
        "            plt.imshow(recon[i].cpu().view(28,28), cmap='gray')\n",
        "            plt.axis('off')\n",
        "            if i==0: plt.ylabel(\"Reconstruction\", fontsize=12)\n",
        "        plt.tight_layout()\n",
        "        plt.show()\n",
        "\n",
        "\n",
        "for epoch in range(1, epochs+1):\n",
        "    train(epoch)\n",
        "\n",
        "test_and_show(test_loader, num_samples=8)"
      ],
      "metadata": {
        "colab": {
          "base_uri": "https://localhost:8080/",
          "height": 367
        },
        "id": "QboYiD_iFuyW",
        "outputId": "a4b3271e-fd48-465e-dd7e-c64443c0e033"
      },
      "execution_count": 10,
      "outputs": [
        {
          "output_type": "stream",
          "name": "stdout",
          "text": [
            "Epoch 1, Average loss: 163.2876\n",
            "Epoch 2, Average loss: 121.2193\n",
            "Epoch 3, Average loss: 114.3585\n",
            "Epoch 4, Average loss: 111.3662\n",
            "Epoch 5, Average loss: 109.6062\n"
          ]
        },
        {
          "output_type": "display_data",
          "data": {
            "text/plain": [
              "<Figure size 1600x400 with 16 Axes>"
            ],
            "image/png": "[encoded data removed]"
          },
          "metadata": {}
        }
      ]
    }
  ]
}